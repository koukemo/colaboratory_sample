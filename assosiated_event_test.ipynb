{
  "nbformat": 4,
  "nbformat_minor": 0,
  "metadata": {
    "colab": {
      "provenance": [],
      "authorship_tag": "ABX9TyOX3RBOisNI5+rs329Mn0vn",
      "include_colab_link": true
    },
    "kernelspec": {
      "name": "python3",
      "display_name": "Python 3"
    },
    "language_info": {
      "name": "python"
    }
  },
  "cells": [
    {
      "cell_type": "markdown",
      "metadata": {
        "id": "view-in-github",
        "colab_type": "text"
      },
      "source": [
        "<a href=\"https://colab.research.google.com/github/koukemo/colaboratory_sample/blob/main/assosiated_event_test.ipynb\" target=\"_parent\"><img src=\"https://colab.research.google.com/assets/colab-badge.svg\" alt=\"Open In Colab\"/></a>"
      ]
    },
    {
      "cell_type": "code",
      "execution_count": 1,
      "metadata": {
        "colab": {
          "base_uri": "https://localhost:8080/"
        },
        "id": "CN3q11QSxWsZ",
        "outputId": "fa621818-dcab-4e6d-cda6-7d055b10b5f7"
      },
      "outputs": [
        {
          "output_type": "stream",
          "name": "stdout",
          "text": [
            "/home/maeda/ros2_ws/src/shigure_core/events/20221123125914_17\n",
            "[['20221123125914_13', '/home/maeda/ros2_ws/src/shigure_core/events/20221123125914_25', '20221123125914_25', 'bring_in']]\n"
          ]
        }
      ],
      "source": [
        "import collections\n",
        "\n",
        "rows = (\n",
        "    ['20221123125914_9', '/home/koukemo/ros2_ws/src/shigure_core/events/20221123125914_17', '20221123125914_17', 'bring_in'],\n",
        "    ['20221123125914_9', '/home/koukemo/ros2_ws/src/shigure_core/events/20221123125914_18', '20221123125914_18', 'take_out'],\n",
        "    ['20221123125914_13', '/home/koukemo/ros2_ws/src/shigure_core/events/20221123125914_25', '20221123125914_25', 'bring_in'],\n",
        "    ['20221123125914_14', '/home/koukemo/ros2_ws/src/shigure_core/events/20221123125914_26', '20221123125914_26', 'bring_in'],\n",
        "    ['20221123125914_14', '/home/koukemo/ros2_ws/src/shigure_core/events/20221123125914_30', '20221123125914_30', 'take_out']\n",
        ")\n",
        "\n",
        "object_id_list = [row[0] for row in rows]\n",
        "duplicate_object_id_list = [k for k, v in collections.Counter(object_id_list).items() if v > 1]\n",
        "unique_object_id_list = [k for k, v in collections.Counter(object_id_list).items() if v == 1]\n",
        "\n",
        "# bring_in, take_outの両方を検出したeventのセット\n",
        "bi_to_sets_list = []\n",
        "for item in duplicate_object_id_list:\n",
        "    matches = [row for row in rows if row[0] == item]\n",
        "    # 重複する要素を統一する\n",
        "    combined = [item] + [match[1:] for match in matches]\n",
        "    bi_to_sets_list.append(combined)\n",
        "\n",
        "# bring_in, take_outの片方を検出したevent\n",
        "one_action_list = []\n",
        "for item in rows:\n",
        "    if item[0] in unique_object_id_list:\n",
        "        one_action_list.append(item)\n",
        "\n",
        "print(bi_to_sets_list[0][1][0])\n",
        "print(one_action_list)"
      ]
    }
  ]
}